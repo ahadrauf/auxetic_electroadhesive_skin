{
 "cells": [
  {
   "cell_type": "code",
   "execution_count": 11,
   "metadata": {},
   "outputs": [],
   "source": [
    "import ezdxf\n",
    "import numpy as np"
   ]
  },
  {
   "cell_type": "code",
   "execution_count": 52,
   "metadata": {},
   "outputs": [],
   "source": [
    "# Create a new DXF document.\n",
    "doc = ezdxf.new(dxfversion='R2010')\n",
    "\n",
    "# Create new table entries (layers, linetypes, text styles, ...).\n",
    "layer = doc.layers.new('main', dxfattribs={'lineweight': 0.0254})\n",
    "layer.rgb = (255, 0, 0)\n",
    "\n",
    "# DXF entities (LINE, TEXT, ...) reside in a layout (modelspace, \n",
    "# paperspace layout or block definition).  \n",
    "msp = doc.modelspace()"
   ]
  },
  {
   "cell_type": "code",
   "execution_count": 53,
   "metadata": {},
   "outputs": [],
   "source": [
    "# Define constants\n",
    "WIDTH = 140 # mm\n",
    "HEIGHT = 300 # mm\n",
    "n_x = 14\n",
    "n_y = 30\n",
    "gap = 1.5 # mm\n",
    "BUFFER_HEIGHT = 20 # mm, extra length on end to use as a handle\n",
    "seamhole_diameter = 3 # mm\n",
    "\n",
    "# Define derived constants\n",
    "cell_width = WIDTH // n_x\n",
    "cell_height = HEIGHT // n_y"
   ]
  },
  {
   "cell_type": "code",
   "execution_count": 54,
   "metadata": {},
   "outputs": [
    {
     "data": {
      "text/plain": [
       "<class 'ezdxf.entities.line.Line'> LINE(#31)"
      ]
     },
     "execution_count": 54,
     "metadata": {},
     "output_type": "execute_result"
    }
   ],
   "source": [
    "# Define border\n",
    "msp.add_line((0,  -BUFFER_HEIGHT), (WIDTH,  -BUFFER_HEIGHT), dxfattribs={'lineweight': 0.0254})\n",
    "msp.add_line((0,  -BUFFER_HEIGHT), (0, HEIGHT + BUFFER_HEIGHT), dxfattribs={'lineweight': 0.0254})\n",
    "msp.add_line((WIDTH,  -BUFFER_HEIGHT), (WIDTH, HEIGHT + BUFFER_HEIGHT), dxfattribs={'lineweight': 0.0254})\n",
    "msp.add_line((0, HEIGHT + BUFFER_HEIGHT), (WIDTH, HEIGHT + BUFFER_HEIGHT), dxfattribs={'lineweight': 0.0254})"
   ]
  },
  {
   "cell_type": "code",
   "execution_count": 55,
   "metadata": {},
   "outputs": [],
   "source": [
    "# Define horizontal cuts\n",
    "for j in range(1, n_y):\n",
    "    if j % 2 == 1:\n",
    "        for i in range(n_x // 2 + 1):\n",
    "            start_pos = (max(0, cell_width*(2*i-1) + gap/2), cell_height*j)\n",
    "            end_pos = (min(WIDTH, cell_width*(2*i+1) - gap/2), cell_height*j)\n",
    "            msp.add_line(start_pos, end_pos)\n",
    "    else:\n",
    "        for i in range(n_x // 2):\n",
    "            start_pos = (cell_width*(2*i) + gap/2, cell_height*j)\n",
    "            end_pos = (cell_width*(2*i+2) - gap/2, cell_height*j)\n",
    "            msp.add_line(start_pos, end_pos)"
   ]
  },
  {
   "cell_type": "code",
   "execution_count": 56,
   "metadata": {},
   "outputs": [],
   "source": [
    "# Define vertical cuts\n",
    "for i in range(1, n_x):\n",
    "    if i % 2 == 0:\n",
    "        for j in range(n_y // 2 + 1):\n",
    "            start_pos = (cell_width*i, max(0, cell_height*(2*j-1) + gap/2))\n",
    "            end_pos = (cell_width*i, min(HEIGHT, cell_height*(2*j+1) - gap/2))\n",
    "            msp.add_line(start_pos, end_pos)\n",
    "    else:\n",
    "        for j in range(n_y // 2):\n",
    "            start_pos = (cell_width*i, cell_height*(2*j) + gap/2)\n",
    "            end_pos = (cell_width*i, cell_height*(2*j+2) - gap/2)\n",
    "            msp.add_line(start_pos, end_pos)"
   ]
  },
  {
   "cell_type": "code",
   "execution_count": 57,
   "metadata": {},
   "outputs": [],
   "source": [
    "num_points = 100\n",
    "theta = np.arange(0, 2*np.pi, 2*np.pi/num_points)"
   ]
  },
  {
   "cell_type": "code",
   "execution_count": 58,
   "metadata": {},
   "outputs": [],
   "source": [
    "# Define seam holes\n",
    "for i in [cell_width/2, WIDTH - cell_width/2]:\n",
    "    for j in [cell_height/2 + cell_height*j for j in range(n_y)]:\n",
    "        for n in range(num_points - 1):\n",
    "            start_pos = (i + seamhole_diameter*np.cos(theta[n])/2, j + seamhole_diameter*np.sin(theta[n])/2)\n",
    "            end_pos = (i + seamhole_diameter*np.cos(theta[n+1])/2, j + seamhole_diameter*np.sin(theta[n+1])/2)\n",
    "            msp.add_line(start_pos, end_pos)     \n",
    "        start_pos = (i + seamhole_diameter*np.cos(theta[-1])/2, j + seamhole_diameter*np.sin(theta[-1])/2)\n",
    "        end_pos = (i + seamhole_diameter*np.cos(theta[0])/2, j + seamhole_diameter*np.sin(theta[0])/2)\n",
    "        msp.add_line(start_pos, end_pos)\n",
    "#         msp.add_circle((i, j), radius=seamhole_diameter/2)"
   ]
  },
  {
   "cell_type": "code",
   "execution_count": 59,
   "metadata": {},
   "outputs": [],
   "source": [
    "# Save DXF document.\n",
    "doc.saveas('20201123_square_1cm_1.5mm_3mmseamhole_lined.dxf')"
   ]
  },
  {
   "cell_type": "code",
   "execution_count": null,
   "metadata": {},
   "outputs": [],
   "source": []
  }
 ],
 "metadata": {
  "kernelspec": {
   "display_name": "Python 3",
   "language": "python",
   "name": "python3"
  },
  "language_info": {
   "codemirror_mode": {
    "name": "ipython",
    "version": 3
   },
   "file_extension": ".py",
   "mimetype": "text/x-python",
   "name": "python",
   "nbconvert_exporter": "python",
   "pygments_lexer": "ipython3",
   "version": "3.8.3"
  }
 },
 "nbformat": 4,
 "nbformat_minor": 4
}
