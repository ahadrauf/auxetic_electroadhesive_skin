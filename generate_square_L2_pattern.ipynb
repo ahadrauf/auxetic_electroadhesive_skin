{
 "cells": [
  {
   "cell_type": "code",
   "execution_count": 32,
   "metadata": {},
   "outputs": [],
   "source": [
    "import ezdxf\n",
    "from math import ceil"
   ]
  },
  {
   "cell_type": "code",
   "execution_count": 68,
   "metadata": {},
   "outputs": [],
   "source": [
    "# Create a new DXF document.\n",
    "doc = ezdxf.new(dxfversion='R2010')\n",
    "\n",
    "# Create new table entries (layers, linetypes, text styles, ...).\n",
    "layer = doc.layers.new('main', dxfattribs={'lineweight': 0.0254})\n",
    "layer.rgb = (255, 0, 0)\n",
    "\n",
    "# DXF entities (LINE, TEXT, ...) reside in a layout (modelspace, \n",
    "# paperspace layout or block definition).  \n",
    "msp = doc.modelspace()"
   ]
  },
  {
   "cell_type": "code",
   "execution_count": 69,
   "metadata": {},
   "outputs": [],
   "source": [
    "# Define constants\n",
    "WIDTH = 100 # mm\n",
    "HEIGHT = 300 # mm\n",
    "n_x = 10\n",
    "n_y = 30\n",
    "gap = 1 # mm\n",
    "BUFFER_HEIGHT = 20 # mm, extra length on end to use as a handle\n",
    "\n",
    "# Define derived constants\n",
    "cell_width = WIDTH // n_x\n",
    "cell_height = HEIGHT // n_y"
   ]
  },
  {
   "cell_type": "code",
   "execution_count": 70,
   "metadata": {},
   "outputs": [
    {
     "data": {
      "text/plain": [
       "<class 'ezdxf.entities.line.Line'> LINE(#31)"
      ]
     },
     "execution_count": 70,
     "metadata": {},
     "output_type": "execute_result"
    }
   ],
   "source": [
    "# Define border\n",
    "msp.add_line((0,  -BUFFER_HEIGHT), (WIDTH,  -BUFFER_HEIGHT), dxfattribs={'lineweight': 0.0254})\n",
    "msp.add_line((0,  -BUFFER_HEIGHT), (0, HEIGHT + BUFFER_HEIGHT), dxfattribs={'lineweight': 0.0254})\n",
    "msp.add_line((WIDTH,  -BUFFER_HEIGHT), (WIDTH, HEIGHT + BUFFER_HEIGHT), dxfattribs={'lineweight': 0.0254})\n",
    "msp.add_line((0, HEIGHT + BUFFER_HEIGHT), (WIDTH, HEIGHT + BUFFER_HEIGHT), dxfattribs={'lineweight': 0.0254})"
   ]
  },
  {
   "cell_type": "code",
   "execution_count": 71,
   "metadata": {},
   "outputs": [],
   "source": [
    "# Define horizontal cuts\n",
    "for j in range(1, n_y):\n",
    "    if j % 2 == 1:\n",
    "        for i in range(n_x // 2 + 1):\n",
    "            start_pos = (max(0, cell_width*(2*i-1) + gap/2), cell_height*j)\n",
    "            end_pos = (min(WIDTH, cell_width*(2*i+1) - gap/2), cell_height*j)\n",
    "            msp.add_line(start_pos, end_pos)\n",
    "    elif j % 4 == 2:\n",
    "        for i in range(n_x // 4 + 1):\n",
    "            start_pos = (max(0, cell_width*(4*i-2) + gap/2), cell_height*j)\n",
    "            end_pos = (min(WIDTH, cell_width*(4*i+2) - gap/2), cell_height*j)\n",
    "            msp.add_line(start_pos, end_pos)\n",
    "    else:\n",
    "        for i in range(ceil(n_x / 4)):\n",
    "            start_pos = (max(0, cell_width*(4*i) + gap/2), cell_height*j)\n",
    "            end_pos = (min(WIDTH, cell_width*(4*i+4) - gap/2), cell_height*j)\n",
    "            msp.add_line(start_pos, end_pos)"
   ]
  },
  {
   "cell_type": "code",
   "execution_count": 72,
   "metadata": {},
   "outputs": [],
   "source": [
    "# Define vertical cuts\n",
    "for i in range(1, n_x):\n",
    "    if i % 2 == 1:\n",
    "        for j in range(n_y // 2 + 1):\n",
    "#             start_pos = (cell_width*i, max(0, cell_height*(2*j-1) + gap/2))\n",
    "#             end_pos = (cell_width*i, min(HEIGHT, cell_height*(2*j+1) - gap/2))\n",
    "            start_pos = (cell_width*i, max(0, cell_height*(2*j) + gap/2))\n",
    "            end_pos = (cell_width*i, min(HEIGHT, cell_height*(2*j+2) - gap/2))\n",
    "            msp.add_line(start_pos, end_pos)\n",
    "    elif i % 4 == 0:\n",
    "        for j in range(n_y // 4 + 1):\n",
    "            start_pos = (cell_width*i, max(0, cell_height*(4*j-2) + gap/2))\n",
    "            end_pos = (cell_width*i, min(HEIGHT, cell_height*(4*j+2) - gap/2))\n",
    "            msp.add_line(start_pos, end_pos)\n",
    "    else:\n",
    "        for j in range(ceil(n_y / 4)):\n",
    "            start_pos = (cell_width*i, max(0, cell_height*(4*j) + gap/2))\n",
    "            end_pos = (cell_width*i, min(HEIGHT, cell_height*(4*j+4) - gap/2))\n",
    "            msp.add_line(start_pos, end_pos)"
   ]
  },
  {
   "cell_type": "code",
   "execution_count": 73,
   "metadata": {},
   "outputs": [],
   "source": [
    "# Save DXF document.\n",
    "# doc.saveas('text.dxf')\n",
    "doc.saveas('20201013_L2square_1cm_1mm_100mm_300mm.dxf')"
   ]
  },
  {
   "cell_type": "code",
   "execution_count": null,
   "metadata": {},
   "outputs": [],
   "source": []
  }
 ],
 "metadata": {
  "kernelspec": {
   "display_name": "Python 3",
   "language": "python",
   "name": "python3"
  },
  "language_info": {
   "codemirror_mode": {
    "name": "ipython",
    "version": 3
   },
   "file_extension": ".py",
   "mimetype": "text/x-python",
   "name": "python",
   "nbconvert_exporter": "python",
   "pygments_lexer": "ipython3",
   "version": "3.8.3"
  }
 },
 "nbformat": 4,
 "nbformat_minor": 4
}
