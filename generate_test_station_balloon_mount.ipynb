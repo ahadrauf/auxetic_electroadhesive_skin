{
 "cells": [
  {
   "cell_type": "code",
   "execution_count": 26,
   "metadata": {},
   "outputs": [],
   "source": [
    "import ezdxf\n",
    "import numpy as np"
   ]
  },
  {
   "cell_type": "code",
   "execution_count": 27,
   "metadata": {},
   "outputs": [],
   "source": [
    "# Create a new DXF document.\n",
    "doc = ezdxf.new(dxfversion='R2010')\n",
    "\n",
    "# Create new table entries (layers, linetypes, text styles, ...).\n",
    "layer = doc.layers.new('main', dxfattribs={'lineweight': 0.0254})\n",
    "layer.rgb = (255, 0, 0)\n",
    "\n",
    "# DXF entities (LINE, TEXT, ...) reside in a layout (modelspace, \n",
    "# paperspace layout or block definition).  \n",
    "msp = doc.modelspace()"
   ]
  },
  {
   "cell_type": "code",
   "execution_count": 28,
   "metadata": {},
   "outputs": [],
   "source": [
    "# Define constants\n",
    "inner_diameter = 45\n",
    "bottom_height = 28\n",
    "top_height = 10 + inner_diameter + 10\n",
    "\n",
    "WIDTH = 100 # mm\n",
    "HEIGHT = bottom_height + top_height # mm\n",
    "seamhole_diameter = 6.25 # mm\n",
    "BUFFER_HEIGHT = 0\n",
    "cell_width = 30\n",
    "cell_width2 = 20\n",
    "cell_height = 8\n",
    "cell_height2 = cell_height + 10"
   ]
  },
  {
   "cell_type": "code",
   "execution_count": 29,
   "metadata": {},
   "outputs": [
    {
     "data": {
      "text/plain": [
       "<class 'ezdxf.entities.line.Line'> LINE(#31)"
      ]
     },
     "execution_count": 29,
     "metadata": {},
     "output_type": "execute_result"
    }
   ],
   "source": [
    "# Define border\n",
    "msp.add_line((0,  -BUFFER_HEIGHT), (WIDTH,  -BUFFER_HEIGHT), dxfattribs={'lineweight': 0.0254})\n",
    "msp.add_line((0,  -BUFFER_HEIGHT), (0, HEIGHT + BUFFER_HEIGHT), dxfattribs={'lineweight': 0.0254})\n",
    "msp.add_line((WIDTH,  -BUFFER_HEIGHT), (WIDTH, HEIGHT + BUFFER_HEIGHT), dxfattribs={'lineweight': 0.0254})\n",
    "msp.add_line((0, HEIGHT + BUFFER_HEIGHT), (WIDTH, HEIGHT + BUFFER_HEIGHT), dxfattribs={'lineweight': 0.0254})"
   ]
  },
  {
   "cell_type": "code",
   "execution_count": 30,
   "metadata": {},
   "outputs": [],
   "source": [
    "def add_circle(i, j, seamhole_diameter, start_angle=0, end_angle = 2*np.pi, num_points=40):\n",
    "    theta = np.arange(start_angle, end_angle, 2*np.pi/num_points)\n",
    "    for n in range(num_points - 1):\n",
    "        start_pos = (i + seamhole_diameter*np.cos(theta[n])/2, j + seamhole_diameter*np.sin(theta[n])/2)\n",
    "        end_pos = (i + seamhole_diameter*np.cos(theta[n+1])/2, j + seamhole_diameter*np.sin(theta[n+1])/2)\n",
    "        msp.add_line(start_pos, end_pos)     \n",
    "    start_pos = (i + seamhole_diameter*np.cos(theta[-1])/2, j + seamhole_diameter*np.sin(theta[-1])/2)\n",
    "    end_pos = (i + seamhole_diameter*np.cos(theta[0])/2, j + seamhole_diameter*np.sin(theta[0])/2)\n",
    "    msp.add_line(start_pos, end_pos)"
   ]
  },
  {
   "cell_type": "code",
   "execution_count": 31,
   "metadata": {},
   "outputs": [],
   "source": [
    "# Define seam holes\n",
    "for i in [cell_width, WIDTH - cell_width]:\n",
    "    for j in [cell_height]:\n",
    "        add_circle(i, j, seamhole_diameter)\n",
    "        \n",
    "for i in [cell_width2, WIDTH - cell_width2]:\n",
    "    for j in [cell_height2]:\n",
    "        add_circle(i, j, seamhole_diameter)"
   ]
  },
  {
   "cell_type": "code",
   "execution_count": 32,
   "metadata": {},
   "outputs": [],
   "source": [
    "# Define balloon cutout\n",
    "add_circle(WIDTH/2, bottom_height + top_height/2, inner_diameter)"
   ]
  },
  {
   "cell_type": "code",
   "execution_count": 33,
   "metadata": {},
   "outputs": [],
   "source": [
    "# Save DXF document.\n",
    "doc.saveas('20201123 - Balloon Mount.dxf')"
   ]
  },
  {
   "cell_type": "code",
   "execution_count": null,
   "metadata": {},
   "outputs": [],
   "source": []
  }
 ],
 "metadata": {
  "kernelspec": {
   "display_name": "Python 3",
   "language": "python",
   "name": "python3"
  },
  "language_info": {
   "codemirror_mode": {
    "name": "ipython",
    "version": 3
   },
   "file_extension": ".py",
   "mimetype": "text/x-python",
   "name": "python",
   "nbconvert_exporter": "python",
   "pygments_lexer": "ipython3",
   "version": "3.8.3"
  }
 },
 "nbformat": 4,
 "nbformat_minor": 4
}
