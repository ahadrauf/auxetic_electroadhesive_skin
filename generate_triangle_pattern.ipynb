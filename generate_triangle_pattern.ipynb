{
 "cells": [
  {
   "cell_type": "code",
   "execution_count": 6,
   "metadata": {},
   "outputs": [],
   "source": [
    "import ezdxf"
   ]
  },
  {
   "cell_type": "code",
   "execution_count": 7,
   "metadata": {},
   "outputs": [],
   "source": [
    "# Create a new DXF document.\n",
    "doc = ezdxf.new(dxfversion='R2010')\n",
    "\n",
    "# Create new table entries (layers, linetypes, text styles, ...).\n",
    "doc.layers.new('TEXTLAYER', dxfattribs={'color': 2})\n",
    "\n",
    "# DXF entities (LINE, TEXT, ...) reside in a layout (modelspace, \n",
    "# paperspace layout or block definition).  \n",
    "msp = doc.modelspace()\n",
    "\n",
    "# Add entities to a layout by factory methods: layout.add_...() \n",
    "msp.add_line((0, 0), (10, 0), dxfattribs={'color': 7})\n",
    "\n",
    "# Save DXF document.\n",
    "doc.saveas('test.dxf')"
   ]
  },
  {
   "cell_type": "code",
   "execution_count": 8,
   "metadata": {},
   "outputs": [],
   "source": [
    "# Create a new DXF document.\n",
    "doc = ezdxf.new(dxfversion='R2010')\n",
    "\n",
    "# Create new table entries (layers, linetypes, text styles, ...).\n",
    "layer = doc.layers.new('main', dxfattribs={'lineweight': 0.0254})\n",
    "layer.rgb = (255, 0, 0)\n",
    "\n",
    "# DXF entities (LINE, TEXT, ...) reside in a layout (modelspace, \n",
    "# paperspace layout or block definition).  \n",
    "msp = doc.modelspace()"
   ]
  },
  {
   "cell_type": "code",
   "execution_count": 9,
   "metadata": {},
   "outputs": [],
   "source": [
    "# Define constants\n",
    "WIDTH = 100 # mm\n",
    "HEIGHT = 300 # mm\n",
    "n_x = 10\n",
    "n_y = 30\n",
    "gap = 2 # mm\n",
    "BUFFER_HEIGHT = 20 # mm, extra length on end to use as a handle\n",
    "\n",
    "# Define derived constants\n",
    "cell_width = WIDTH // n_x\n",
    "cell_height = HEIGHT // n_y"
   ]
  },
  {
   "cell_type": "code",
   "execution_count": 10,
   "metadata": {},
   "outputs": [
    {
     "data": {
      "text/plain": [
       "<class 'ezdxf.entities.line.Line'> LINE(#31)"
      ]
     },
     "execution_count": 10,
     "metadata": {},
     "output_type": "execute_result"
    }
   ],
   "source": [
    "# Define border\n",
    "msp.add_line((0,  -BUFFER_HEIGHT), (WIDTH,  -BUFFER_HEIGHT), dxfattribs={'lineweight': 0.0254})\n",
    "msp.add_line((0,  -BUFFER_HEIGHT), (0, HEIGHT + BUFFER_HEIGHT), dxfattribs={'lineweight': 0.0254})\n",
    "msp.add_line((WIDTH,  -BUFFER_HEIGHT), (WIDTH, HEIGHT + BUFFER_HEIGHT), dxfattribs={'lineweight': 0.0254})\n",
    "msp.add_line((0, HEIGHT + BUFFER_HEIGHT), (WIDTH, HEIGHT + BUFFER_HEIGHT), dxfattribs={'lineweight': 0.0254})"
   ]
  },
  {
   "cell_type": "code",
   "execution_count": 11,
   "metadata": {},
   "outputs": [],
   "source": [
    "# Define horizontal cuts\n",
    "for j in range(n_y):\n",
    "    if j % 2 == 0:\n",
    "        for i in range(n_x):\n",
    "            if i % 2 == 0:\n",
    "                start_pos = (cell_width*i + gap/2, cell_height*j)\n",
    "                end_pos = (cell_width*(i+1), cell_height*(j+1))\n",
    "                msp.add_line(start_pos, end_pos)\n",
    "            else:\n",
    "                start_pos = (cell_width*i, cell_height*(j+1))\n",
    "                end_pos = (cell_width*(i+1) - gap/2, cell_height*j)\n",
    "                msp.add_line(start_pos, end_pos)\n",
    "    else:\n",
    "        for i in range(n_x):\n",
    "            if i % 2 == 1:\n",
    "                start_pos = (cell_width*i + gap/2, cell_height*j)\n",
    "                end_pos = (cell_width*(i+1), cell_height*(j+1))\n",
    "                msp.add_line(start_pos, end_pos)\n",
    "            else:\n",
    "                start_pos = (cell_width*i, cell_height*(j+1))\n",
    "                end_pos = (cell_width*(i+1) - gap/2, cell_height*j)\n",
    "                msp.add_line(start_pos, end_pos)"
   ]
  },
  {
   "cell_type": "code",
   "execution_count": 13,
   "metadata": {},
   "outputs": [],
   "source": [
    "# Save DXF document.\n",
    "doc.saveas('20201013_triangle_1cm_2mm.dxf')\n",
    "# doc.saveas('test.dxf')"
   ]
  },
  {
   "cell_type": "code",
   "execution_count": null,
   "metadata": {},
   "outputs": [],
   "source": []
  }
 ],
 "metadata": {
  "kernelspec": {
   "display_name": "Python 3",
   "language": "python",
   "name": "python3"
  },
  "language_info": {
   "codemirror_mode": {
    "name": "ipython",
    "version": 3
   },
   "file_extension": ".py",
   "mimetype": "text/x-python",
   "name": "python",
   "nbconvert_exporter": "python",
   "pygments_lexer": "ipython3",
   "version": "3.8.3"
  }
 },
 "nbformat": 4,
 "nbformat_minor": 4
}
