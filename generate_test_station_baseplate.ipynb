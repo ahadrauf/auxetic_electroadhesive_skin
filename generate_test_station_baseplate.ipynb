{
 "cells": [
  {
   "cell_type": "code",
   "execution_count": 8,
   "metadata": {},
   "outputs": [],
   "source": [
    "import ezdxf\n",
    "import numpy as np"
   ]
  },
  {
   "cell_type": "code",
   "execution_count": 9,
   "metadata": {},
   "outputs": [],
   "source": [
    "# Create a new DXF document.\n",
    "doc = ezdxf.new(dxfversion='R2010')\n",
    "\n",
    "# Create new table entries (layers, linetypes, text styles, ...).\n",
    "layer = doc.layers.new('main', dxfattribs={'lineweight': 0.0254})\n",
    "layer.rgb = (255, 0, 0)\n",
    "\n",
    "# DXF entities (LINE, TEXT, ...) reside in a layout (modelspace, \n",
    "# paperspace layout or block definition).  \n",
    "msp = doc.modelspace()"
   ]
  },
  {
   "cell_type": "code",
   "execution_count": 10,
   "metadata": {},
   "outputs": [],
   "source": [
    "# Define constants\n",
    "WIDTH = 100 # mm\n",
    "HEIGHT = 150 # mm\n",
    "seamhole_diameter = 6.25 # mm\n",
    "BUFFER_HEIGHT = 0\n",
    "cell_width = 20\n",
    "cell_height = 40"
   ]
  },
  {
   "cell_type": "code",
   "execution_count": 11,
   "metadata": {},
   "outputs": [
    {
     "data": {
      "text/plain": [
       "<class 'ezdxf.entities.line.Line'> LINE(#31)"
      ]
     },
     "execution_count": 11,
     "metadata": {},
     "output_type": "execute_result"
    }
   ],
   "source": [
    "# Define border\n",
    "msp.add_line((0,  -BUFFER_HEIGHT), (WIDTH,  -BUFFER_HEIGHT), dxfattribs={'lineweight': 0.0254})\n",
    "msp.add_line((0,  -BUFFER_HEIGHT), (0, HEIGHT + BUFFER_HEIGHT), dxfattribs={'lineweight': 0.0254})\n",
    "msp.add_line((WIDTH,  -BUFFER_HEIGHT), (WIDTH, HEIGHT + BUFFER_HEIGHT), dxfattribs={'lineweight': 0.0254})\n",
    "msp.add_line((0, HEIGHT + BUFFER_HEIGHT), (WIDTH, HEIGHT + BUFFER_HEIGHT), dxfattribs={'lineweight': 0.0254})"
   ]
  },
  {
   "cell_type": "code",
   "execution_count": 12,
   "metadata": {},
   "outputs": [],
   "source": [
    "num_points = 100\n",
    "theta = np.arange(0, 2*np.pi, 2*np.pi/num_points)"
   ]
  },
  {
   "cell_type": "code",
   "execution_count": 13,
   "metadata": {},
   "outputs": [],
   "source": [
    "# Define seam holes\n",
    "for i in [cell_width, WIDTH - cell_width]:\n",
    "    for j in [cell_height, cell_height/2, HEIGHT - cell_height/2, HEIGHT - cell_height]:\n",
    "        for n in range(num_points - 1):\n",
    "            start_pos = (i + seamhole_diameter*np.cos(theta[n])/2, j + seamhole_diameter*np.sin(theta[n])/2)\n",
    "            end_pos = (i + seamhole_diameter*np.cos(theta[n+1])/2, j + seamhole_diameter*np.sin(theta[n+1])/2)\n",
    "            msp.add_line(start_pos, end_pos)     \n",
    "        start_pos = (i + seamhole_diameter*np.cos(theta[-1])/2, j + seamhole_diameter*np.sin(theta[-1])/2)\n",
    "        end_pos = (i + seamhole_diameter*np.cos(theta[0])/2, j + seamhole_diameter*np.sin(theta[0])/2)\n",
    "        msp.add_line(start_pos, end_pos)\n",
    "#         msp.add_circle((i, j), radius=seamhole_diameter/2)"
   ]
  },
  {
   "cell_type": "code",
   "execution_count": 14,
   "metadata": {},
   "outputs": [],
   "source": [
    "# Save DXF document.\n",
    "doc.saveas('20201122 - Baseplate Connector v3.dxf')"
   ]
  },
  {
   "cell_type": "code",
   "execution_count": null,
   "metadata": {},
   "outputs": [],
   "source": []
  }
 ],
 "metadata": {
  "kernelspec": {
   "display_name": "Python 3",
   "language": "python",
   "name": "python3"
  },
  "language_info": {
   "codemirror_mode": {
    "name": "ipython",
    "version": 3
   },
   "file_extension": ".py",
   "mimetype": "text/x-python",
   "name": "python",
   "nbconvert_exporter": "python",
   "pygments_lexer": "ipython3",
   "version": "3.8.3"
  }
 },
 "nbformat": 4,
 "nbformat_minor": 4
}
