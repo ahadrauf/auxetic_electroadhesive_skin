{
 "cells": [
  {
   "cell_type": "code",
   "execution_count": 14,
   "metadata": {},
   "outputs": [],
   "source": [
    "import ezdxf\n",
    "import numpy as np"
   ]
  },
  {
   "cell_type": "code",
   "execution_count": 15,
   "metadata": {},
   "outputs": [],
   "source": [
    "# Create a new DXF document.\n",
    "doc = ezdxf.new(dxfversion='R2010')\n",
    "\n",
    "# Create new table entries (layers, linetypes, text styles, ...).\n",
    "layer = doc.layers.new('main', dxfattribs={'lineweight': 0.0254})\n",
    "layer.rgb = (255, 0, 0)\n",
    "\n",
    "# DXF entities (LINE, TEXT, ...) reside in a layout (modelspace, \n",
    "# paperspace layout or block definition).  \n",
    "msp = doc.modelspace()"
   ]
  },
  {
   "cell_type": "code",
   "execution_count": 16,
   "metadata": {},
   "outputs": [],
   "source": [
    "# Define constants\n",
    "width = 5\n",
    "cell_size = 1\n",
    "buffer_size = 0.5"
   ]
  },
  {
   "cell_type": "code",
   "execution_count": 17,
   "metadata": {},
   "outputs": [],
   "source": [
    "def add_circle(center, radius, start_angle=0, end_angle=360, is_counter_clockwise=True):\n",
    "    num_points = 15\n",
    "    start_angle *= np.pi/180\n",
    "    end_angle *= np.pi/180\n",
    "    if is_counter_clockwise:\n",
    "        theta = np.arange(start_angle, end_angle, abs(end_angle-start_angle)/num_points)\n",
    "    else:\n",
    "        theta = np.arange(end_angle, 2*np.pi + start_angle, abs(2*np.pi + start_angle - end_angle)/num_points)\n",
    "    for n in range(num_points - 1):\n",
    "        start_pos = (center[0] + radius*np.cos(theta[n]), center[1] + radius*np.sin(theta[n]))\n",
    "        end_pos = (center[0] + radius*np.cos(theta[n+1]), center[1] + radius*np.sin(theta[n+1]))\n",
    "        msp.add_line(start_pos, end_pos)     \n",
    "    \n",
    "    start_pos = (center[0] + radius*np.cos(theta[-1]), center[1] + radius*np.sin(theta[-1]))\n",
    "    if is_counter_clockwise:\n",
    "        end_pos = (center[0] + radius*np.cos(end_angle), center[1] + radius*np.sin(end_angle))\n",
    "    else:\n",
    "        end_pos = (center[0] + radius*np.cos(2*np.pi + start_angle), center[1] + radius*np.sin(2*np.pi + start_angle))\n",
    "    msp.add_line(start_pos, end_pos)     \n",
    "    "
   ]
  },
  {
   "cell_type": "code",
   "execution_count": 18,
   "metadata": {},
   "outputs": [],
   "source": [
    "def add_outline(pts):\n",
    "    for i in range(len(pts) - 1):\n",
    "        msp.add_line(pts[i], pts[i+1])"
   ]
  },
  {
   "cell_type": "code",
   "execution_count": 19,
   "metadata": {},
   "outputs": [],
   "source": [
    "add_outline([(0, 0),\n",
    "            (0, cell_size+buffer_size),\n",
    "            (cell_size, cell_size+buffer_size),\n",
    "            (cell_size, cell_size),\n",
    "            (2*cell_size, cell_size),\n",
    "            (2*cell_size, 0),\n",
    "            (0, 0)])\n",
    "\n",
    "add_outline([(0, cell_size+buffer_size),\n",
    "            (0, 2*cell_size+buffer_size),\n",
    "            (2*cell_size, 2*cell_size+buffer_size),\n",
    "            (2*cell_size, cell_size)])"
   ]
  },
  {
   "cell_type": "code",
   "execution_count": 20,
   "metadata": {},
   "outputs": [],
   "source": [
    "# Save DXF document.\n",
    "doc.saveas('20201130_electroadhesive_square_v3.dxf')"
   ]
  },
  {
   "cell_type": "code",
   "execution_count": null,
   "metadata": {},
   "outputs": [],
   "source": []
  }
 ],
 "metadata": {
  "kernelspec": {
   "display_name": "Python 3",
   "language": "python",
   "name": "python3"
  },
  "language_info": {
   "codemirror_mode": {
    "name": "ipython",
    "version": 3
   },
   "file_extension": ".py",
   "mimetype": "text/x-python",
   "name": "python",
   "nbconvert_exporter": "python",
   "pygments_lexer": "ipython3",
   "version": "3.8.3"
  }
 },
 "nbformat": 4,
 "nbformat_minor": 4
}
